{
  "nbformat": 4,
  "nbformat_minor": 0,
  "metadata": {
    "colab": {
      "name": "Lambda Data Science Assignment 1 - Getting Started with Python.ipynb",
      "version": "0.3.2",
      "provenance": [],
      "collapsed_sections": []
    },
    "kernelspec": {
      "name": "python3",
      "display_name": "Python 3"
    }
  },
  "cells": [
    {
      "metadata": {
        "id": "51dZwqDNc9x6",
        "colab_type": "text"
      },
      "cell_type": "markdown",
      "source": [
        "# Lambda School Data Science - Getting Started with Python\n",
        "\n",
        "Following are exercises you should complete after watching the first intro lecture. Workflow:\n",
        "\n",
        "1. Sign in to a Google account\n",
        "2. Copy the notebook (`File` -> `Save a copy in Drive`)\n",
        "3. Complete the exercises! This means fill out the code cells, and run them (shift-enter or click the play button that appears when you're in one of them)\n",
        "4. Take a look at your work, and write comments/add text cells as appropriate to explain\n",
        "5. Make the notebook URL viewable and submit with the standup form"
      ]
    },
    {
      "metadata": {
        "id": "I6biutgwdgpb",
        "colab_type": "text"
      },
      "cell_type": "markdown",
      "source": [
        "## Exercise 1 - A bit of Math\n",
        "\n",
        "For these \"word\" problems, use Python to clearly solve them. Your code will \"show your work\" - use good variable names! To show your answers you should write a `print()` statement at the end.\n",
        "\n",
        "As you work, follow the **20 minute rule** - that means if you're stuck on something for 20 minutes, you should ask a question!\n",
        "\n",
        "### a) It's a gas\n",
        "\n",
        "A taxi driver is calculating their profit over two weeks by adding up the fares they charge and subtracting the cost of gas. The price of gas changes over time - it was `$3.52`/gallon the first week and `$3.57`/gallon this second week. Their car gets 20 miles per gallon.\n",
        "\n",
        "For the first week the driver had a total of 23 passengers with average `$29` fare each, and drove a total of 160 miles. For the second week they had 17 passengers with average `$30` fare each, and drove a total of 220 miles. Assume that for both weeks they purchase all the gas needed during that week (i.e. they refuel every week to maintain a constant level of gas in the tank).\n",
        "\n",
        "Based on the above, answer the following questions:\n",
        "\n",
        "- What is their total profit over both weeks?\n",
        "- During which week was their average (mean) profit per passenger higher?\n"
      ]
    },
    {
      "metadata": {
        "id": "CWJeYQW6AoGf",
        "colab_type": "code",
        "colab": {
          "base_uri": "https://localhost:8080/",
          "height": 51
        },
        "outputId": "5deb4210-ab83-43b1-f908-66e6a2ea2742"
      },
      "cell_type": "code",
      "source": [
        "def profits(week1= 3.52, week2 = 3.57):\n",
        "  miles_per_gallon = 20 \n",
        "  passengers_1, passengers_2 = 23, 17\n",
        "  fare_1, fare_2 = 29, 30\n",
        "  distance_1, distance_2 = 160, 220\n",
        "  profit_1, profit_2 = (passengers_1 * fare_1)- ((distance_1/miles_per_gallon)*week1), (passengers_2* fare_2)-((distance_2/miles_per_gallon)*week2)\n",
        "  mean_1, mean_2 = profit_1/passengers_1, profit_2/passengers_2 # calculating average profit per customer for week 1 and 2\n",
        "  print(\"Week one profit is: $\",profit_1, \" and profit for week two is: $\",profit_2, \" The total profit for both weeks is: ${}\".format(round(profit_1 + profit_2, 2)))\n",
        "  # I use the max statement to find the highest average profit per passenger\n",
        "  if max(mean_1, mean_2) == mean_1:\n",
        "    print(\"Average profit per passenger was higher in week 1, coming in at ${} per passenger\".format(round(mean_1,2)))\n",
        "  else:\n",
        "    print(\"Average profit per passenger was higher during week 2, coming in at ${} per passenger\".format(round(mean_2)))\n",
        "      \n",
        "profits()"
      ],
      "execution_count": 23,
      "outputs": [
        {
          "output_type": "stream",
          "text": [
            "Week one profit is: $ 638.84  and profit for week two is: $ 470.73  The total profit for both weeks is: $1109.57\n",
            "Average profit per passenger was higher in week 1, coming in at $27.78 per passenger\n"
          ],
          "name": "stdout"
        }
      ]
    },
    {
      "metadata": {
        "id": "ua02_OctA8vX",
        "colab_type": "code",
        "colab": {}
      },
      "cell_type": "code",
      "source": [
        ""
      ],
      "execution_count": 0,
      "outputs": []
    },
    {
      "metadata": {
        "id": "0l4bUPHmR5Ko",
        "colab_type": "text"
      },
      "cell_type": "markdown",
      "source": [
        "### b) Mo' money...\n",
        "\n",
        "A cash drawer contains 160 bills, all 10s and 50s. The total value of the 10s and 50s is $1,760.\n",
        "\n",
        "How many of each type of bill are in the drawer? You can figure this out by trial and error (or by doing algebra with pencil and paper), but try to use loops and conditionals to check a plausible possibilities and stop when you find the correct one."
      ]
    },
    {
      "metadata": {
        "id": "Q2Atz_kyR8_6",
        "colab_type": "code",
        "colab": {
          "base_uri": "https://localhost:8080/",
          "height": 34
        },
        "outputId": "f581b42e-fc1e-4d8d-ba05-626c5d763bb7"
      },
      "cell_type": "code",
      "source": [
        "import random\n",
        "def iterat(a = 0, b = 0):\n",
        "  tot, control, bills = 0, 0, 0\n",
        "  ten, fifty = list(range(176)), list(range(34))\n",
        "  ten_multiplier, fifty_multiplier = 10, 50\n",
        "  while control == 0:\n",
        "    for a in ten:\n",
        "      for b in fifty:\n",
        "        random.shuffle(fifty) #randomly organise numbers in 1 to 34 and pick one number from those randoms\n",
        "      random.shuffle(ten) #randomly organise numbers in 1 to 176 and pick one number from those randoms\n",
        "      tot = (a*ten_multiplier) + (b* fifty_multiplier)\n",
        "      bills = a + b #add both a and b to find the total number of bills we currently have\n",
        "      if tot == 1760 and bills == 160:\n",
        "        control = 1\n",
        "        print(\"The total is {}, there are are {} tens, {} fifty's and a total of {} bills\".format(tot,a,b, bills))\n",
        "iterat()"
      ],
      "execution_count": 26,
      "outputs": [
        {
          "output_type": "stream",
          "text": [
            "The total is 1760, there are are 156 tens, 4 fifty's and a total of 160 bills\n"
          ],
          "name": "stdout"
        }
      ]
    },
    {
      "metadata": {
        "id": "UCFtX_q9aQlc",
        "colab_type": "text"
      },
      "cell_type": "markdown",
      "source": [
        "## Exercise 2 - Drawing a plot\n",
        "\n",
        "Use NumPy and Matplotlib to draw a scatterplot of uniform random `(x, y)` values all drawn from the `[0, 1]` interval. Helpful documentation:\n",
        "\n",
        "*   https://matplotlib.org/tutorials/index.html\n",
        "*   https://docs.scipy.org/doc/numpy/user/quickstart.html\n",
        "\n",
        "Stretch goal - draw more plots! You can refer to the [Matplotlib gallery](https://matplotlib.org/gallery.html) for inspiration, but don't just reproduce something - try to apply it to your own data.\n",
        "\n",
        "How to get data? There's *many* ways, but a good place to get started is with [sklearn.datasets](http://scikit-learn.org/stable/datasets/index.html):\n",
        "\n",
        "```\n",
        "from sklearn import datasets\n",
        "dir(datasets)\n",
        "```"
      ]
    },
    {
      "metadata": {
        "id": "pNEb09gMaltL",
        "colab_type": "code",
        "colab": {}
      },
      "cell_type": "code",
      "source": [
        "import matplotlib.pyplot as plt\n",
        "import pandas as pd\n",
        "import numpy as np\n"
      ],
      "execution_count": 0,
      "outputs": []
    },
    {
      "metadata": {
        "id": "i8QhIHcQuq2h",
        "colab_type": "code",
        "colab": {
          "base_uri": "https://localhost:8080/",
          "height": 320
        },
        "outputId": "4806f4c3-b60e-4b88-b020-a3011b2a5b7d"
      },
      "cell_type": "code",
      "source": [
        "x  = np.random.uniform(0,1, 30)\n",
        "y  = np.random.uniform(0,1, 30)\n",
        "plt.figure(figsize=(5,5))\n",
        "plt.scatter(x, y, label= 'my scatter', color= 'blue')\n",
        "plt.show()"
      ],
      "execution_count": 32,
      "outputs": [
        {
          "output_type": "display_data",
          "data": {
            "image/png": "[encoded data removed]",
            "text/plain": [
              "<matplotlib.figure.Figure at 0x7f13f23d3390>"
            ]
          },
          "metadata": {
            "tags": []
          }
        }
      ]
    },
    {
      "metadata": {
        "id": "hGpFAslRhuem",
        "colab_type": "text"
      },
      "cell_type": "markdown",
      "source": [
        "## Exercise 3 - Writing a function\n",
        "Write a function that, given a list of numbers, calculates the mean, median, and mode of those numbers. Return a dictionary with properties for the mean, median and mode. \n",
        "\n",
        "For example:\n",
        "\n",
        "```\n",
        "mmm_dict = meanMedianMode([1, 2, 6, 7, 8, 9, 3, 4, 5, 10, 10])\n",
        "print(mmm_dict)\n",
        "> {'mean': 5.909090909090909, 'median': 6, 'mode': 10}\n",
        "```\n",
        "\n",
        "There are Python standard libraries that make calculating these numbers very easy, but first try your hand at implementing it using the `reduce()` function:"
      ]
    },
    {
      "metadata": {
        "id": "e8dmYzTmiXD_",
        "colab_type": "code",
        "colab": {}
      },
      "cell_type": "code",
      "source": [
        "import numpy as np\n",
        "from functools import reduce\n",
        "\n"
      ],
      "execution_count": 0,
      "outputs": []
    },
    {
      "metadata": {
        "id": "nmkk-CHvh0Nj",
        "colab_type": "code",
        "colab": {
          "base_uri": "https://localhost:8080/",
          "height": 34
        },
        "outputId": "239306e5-2bf1-45c9-9ba4-54a6580fabf7"
      },
      "cell_type": "code",
      "source": [
        "def meanMedianMode(numbers):\n",
        "    mean_num = reduce(lambda x, y: x + y, numbers) / len(numbers)\n",
        "    median_num = np.median(numbers)\n",
        "    mode_num = max((numbers), key = numbers.count)\n",
        "    result = {'mean': mean_num, 'median': median_num, 'mode':mode_num}\n",
        "    return result\n",
        "  \n",
        "meanMedianMode([2,3,4,4,5,2,43,2,3,4])"
      ],
      "execution_count": 35,
      "outputs": [
        {
          "output_type": "execute_result",
          "data": {
            "text/plain": [
              "{'mean': 7.2, 'median': 3.5, 'mode': 2}"
            ]
          },
          "metadata": {
            "tags": []
          },
          "execution_count": 35
        }
      ]
    }
  ]
}