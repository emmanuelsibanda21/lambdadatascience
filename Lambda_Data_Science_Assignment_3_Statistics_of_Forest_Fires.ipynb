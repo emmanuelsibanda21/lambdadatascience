{
  "nbformat": 4,
  "nbformat_minor": 0,
  "metadata": {
    "colab": {
      "name": "Lambda Data Science Assignment 3 - Statistics of Forest Fires.ipynb",
      "version": "0.3.2",
      "provenance": []
    },
    "kernelspec": {
      "name": "python3",
      "display_name": "Python 3"
    }
  },
  "cells": [
    {
      "metadata": {
        "id": "uKYVNFs44mfD",
        "colab_type": "text"
      },
      "cell_type": "markdown",
      "source": [
        "# Lambda School Data Science - Forest Fire Statistics\n",
        "\n",
        "![Forest fire](https://www.publicdomainpictures.net/pictures/220000/velka/forest-fire.jpg)\n",
        "\n",
        "Forest fires are a sadly timely topic, but data can help us better understand and perhaps manage them in future. In this assignment you'll look at a data set of forest fires in Portugal during 2007 - this is a real research dataset, and you can [read more about it](https://archive.ics.uci.edu/ml/datasets/Forest+Fires) though you do not need to for this assignment.\n",
        "\n",
        "For our purposes, the main thing that you need to understand are the attributes in the data.\n",
        "\n",
        "1. X - x-axis spatial coordinate within the Montesinho park map: 1 to 9\n",
        "2. Y - y-axis spatial coordinate within the Montesinho park map: 2 to 9\n",
        "3. month - month of the year: 'jan' to 'dec'\n",
        "4. day - day of the week: 'mon' to 'sun'\n",
        "5. FFMC - FFMC index from the FWI system: 18.7 to 96.20\n",
        "6. DMC - DMC index from the FWI system: 1.1 to 291.3\n",
        "7. DC - DC index from the FWI system: 7.9 to 860.6\n",
        "8. ISI - ISI index from the FWI system: 0.0 to 56.10\n",
        "9. temp - temperature in Celsius degrees: 2.2 to 33.30\n",
        "10. RH - relative humidity in %: 15.0 to 100\n",
        "11. wind - wind speed in km/h: 0.40 to 9.40\n",
        "12. rain - outside rain in mm/m2 : 0.0 to 6.4\n",
        "13. area - the burned area of the forest (in ha): 0.00 to 1090.84 \n",
        "\n",
        "Most of these features are numeric - this means we can do things like look at their mean, median, mode, and plot histograms. They have technical sounding names, but generally refer to meteorological data (i.e. the weather).\n",
        "\n",
        "For the discrete features we can still draw histograms (as in the lecture notebook). X and Y are already integer values - month and day do have natural order, but if you want to use them you may want to translate them from strings to numbers (hint - you can build a dict that maps them, and loop over to apply it)."
      ]
    },
    {
      "metadata": {
        "id": "2hdt1i4H6gQ2",
        "colab_type": "text"
      },
      "cell_type": "markdown",
      "source": [
        "## Exercise 1 - Load the data and take a peek\n",
        "\n",
        "The data is accessible as a CSV at the URL: https://archive.ics.uci.edu/ml/machine-learning-databases/forest-fires/forestfires.csv\n",
        "\n",
        "You want to load this into a dataframe, so you can then look at the variables and perform descriptive statistics.\n",
        "\n",
        "After you load it, verify that you've got it working by printing the first five rows of data."
      ]
    },
    {
      "metadata": {
        "id": "s1ZQrmPs282o",
        "colab_type": "code",
        "colab": {}
      },
      "cell_type": "code",
      "source": [
        "import pandas as pd\n",
        "import numpy as np\n",
        "df = pd.read_csv('https://archive.ics.uci.edu/ml/machine-learning-databases/forest-fires/forestfires.csv')"
      ],
      "execution_count": 0,
      "outputs": []
    },
    {
      "metadata": {
        "id": "H82vSWGC6-Ui",
        "colab_type": "text"
      },
      "cell_type": "markdown",
      "source": [
        "## Exercise 2 - Explore and summarize the data\n",
        "\n",
        "Now that you've got the data, take a deeper look at it - the description above gives the overall range (from minimum to maximum), but look at the other core statistics. You should pick three variables you want to look at - two continuous, and one discrete, and for each you should calculate the mean and median.\n",
        "\n",
        "Don't use the magic built-in functions of pandas or other libraries - write your own functions to calculate mean and median (you can of course refer to the lecture notebooks for help). This is a good exercise both to practice coding and reinforce the statistical concepts.\n",
        "\n",
        "For each of the three variables you look at, answer the following questions (as comments in your code):\n",
        "\n",
        "- Is the median larger or smaller than the mean?\n",
        "- What does that tell you about how the variable is distributed?\n",
        "- (For the discrete variable only) What is the mode?\n",
        "\n",
        "Hint - it may help to draw a histogram to look at the variable and really get a feel for it.\n",
        "\n",
        "Another hint - part of this exercise is making sure you can distinguish between continuous and discrete variables, so take some time to think through your choice of variables."
      ]
    },
    {
      "metadata": {
        "id": "Jdsvuj8n8Kic",
        "colab_type": "code",
        "colab": {}
      },
      "cell_type": "code",
      "source": [
        "df.describe()"
      ],
      "execution_count": 0,
      "outputs": []
    },
    {
      "metadata": {
        "id": "rMWYZKVX-HGM",
        "colab_type": "text"
      },
      "cell_type": "markdown",
      "source": [
        "## Exercise 3 - Simulate more data!\n",
        "\n",
        "There are many more things that could be done with this data, but for now we've not learned about hypothesis testing or inferential statistics. So, one fun thing to do is - make more data!\n",
        "\n",
        "How do we do that? We can use the same `random` module demonstrated in lecture, and repeatedly sample our data. This is related to the Monte Carlo method used to demonstrate the central limit theorem. In this setting, such simulations could then be applied to Bayesian methods - another topic for another time.\n",
        "\n",
        "For the same three variables that you looked at in exercise 2, you should do the following:\n",
        "\n",
        "1. Generate a *new* variable based on taking values at random from the original one - make the new variable have at least 10 times as many observations as the original\n",
        "2. Calculate the mean, median, and mode of the new variable (it's okay to use prewritten functions for this)\n",
        "3. Compare your results to what you saw in exercise 2 - it should be very similar\n",
        "\n",
        "Once you're done, look back at your code. Chances are you learned things as you wrote it, and you can revisit it to clean it up a bit. Maybe put pieces of code you use multiple times in a function, or add some explanatory comments so anyone reading (including \"future you\") has a clearer understanding of what you did."
      ]
    },
    {
      "metadata": {
        "id": "Ro46nYXAvko_",
        "colab_type": "code",
        "colab": {}
      },
      "cell_type": "code",
      "source": [
        "import random\n",
        "from  scipy.stats import mode\n",
        "import matplotlib.pyplot as plt"
      ],
      "execution_count": 0,
      "outputs": []
    },
    {
      "metadata": {
        "id": "L8NSwUkBesCA",
        "colab_type": "code",
        "colab": {}
      },
      "cell_type": "code",
      "source": [
        "new_variable = []\n",
        "for _ in range (5170):\n",
        "  variable = random.choice(df.wind)\n",
        "  new_variable.append(variable)\n",
        "mean_var = np.mean(new_variable)\n",
        "median_var = np.median(new_variable)\n",
        "mode_var = max((new_variable), key=new_variable.count)\n",
        "print('The mean of this sample is: {}, the median is: {} and the mode is: {}'.format(mean_var,median_var,mode_var) )\n"
      ],
      "execution_count": 0,
      "outputs": []
    },
    {
      "metadata": {
        "id": "sj5RYe9yBlfh",
        "colab_type": "text"
      },
      "cell_type": "markdown",
      "source": [
        "## Exercise 4 (*Optional* \"stretch goal\") - Simulate a *lot* of data\n",
        "\n",
        "For *one* of the variables you've been looking at:\n",
        "\n",
        "1. Make an empty list `variablename_means`\n",
        "2. Use your code from exercise 3 to run a Monte Carlo simulation of 1000 experiments where you make a new simulated variable (hint - you'll need a loop)\n",
        "3. For each experiment, calculate the mean of the simulated variable, and append it to the list\n",
        "4. Plot the list as a histogram\n",
        "\n",
        "Once you've done the above, answer the question - how does the distribution of the histogram (of the means of a bunch of simulations of real data) look?"
      ]
    },
    {
      "metadata": {
        "id": "JKlXME96Tuqs",
        "colab_type": "code",
        "colab": {}
      },
      "cell_type": "code",
      "source": [
        "variablename_means = []\n",
        "for experiment in range(1000):\n",
        "  simulated_temps = random.sample(new_variable, 30)\n",
        "  variablename_means.append(np.mean(simulated_temps))"
      ],
      "execution_count": 0,
      "outputs": []
    },
    {
      "metadata": {
        "id": "aJibGsWnl_MA",
        "colab_type": "code",
        "colab": {}
      },
      "cell_type": "code",
      "source": [
        "plt.xlabel('Wind recorded')\n",
        "plt.ylabel('Number of days')\n",
        "plt.title('Wind recording')\n",
        "plt.hist(variablename_means)"
      ],
      "execution_count": 0,
      "outputs": []
    }
  ]
}