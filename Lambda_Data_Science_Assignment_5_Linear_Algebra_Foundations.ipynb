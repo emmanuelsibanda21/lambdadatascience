{
  "nbformat": 4,
  "nbformat_minor": 0,
  "metadata": {
    "colab": {
      "name": "Lambda Data Science Assignment 5 - Linear Algebra Foundations.ipynb",
      "version": "0.3.2",
      "provenance": [],
      "collapsed_sections": []
    },
    "kernelspec": {
      "name": "python3",
      "display_name": "Python 3"
    }
  },
  "cells": [
    {
      "metadata": {
        "id": "C6GiJ7ixeOOU",
        "colab_type": "text"
      },
      "cell_type": "markdown",
      "source": [
        "#Intro to Data Science Assignment 5\n",
        "##Linear Algebra Foundations\n",
        "\n",
        "For the short answers:\n",
        "     Feel free to do any additional research, but try your best to answer the questions in your own words (don't copy/paste).\n",
        "     \n",
        "For the computations by hand:\n",
        "      If you'd like to use LaTex to make things pretty, by all means give it a try, but it is *optional*. You can answer the questions using algebraic-like notation. For instance if I was adding two vectors:\n",
        "      \n",
        "[1,2] + [2,3] => (1+2), (2+3) => [3,5] \n",
        "\n",
        "**Show your work, not just the answer**\n",
        "\n",
        "For the graphs:\n",
        "   Make them as pretty as you like\n",
        "   \n",
        " For using the tools (numpy):\n",
        "    Use labeled print statements as shown"
      ]
    },
    {
      "metadata": {
        "id": "yJJdtDoVeiYV",
        "colab_type": "text"
      },
      "cell_type": "markdown",
      "source": [
        "#Short Answer Questions\n",
        "\n",
        "1) Describe a vector\n",
        "\n",
        "2) Describe a matrix\n",
        "\n",
        "3) What can we do with vectors?\n",
        "\n",
        "4) What are basis vectors?\n",
        "\n",
        "5) What is an inverse matrix?\n",
        "\n",
        "6) What is the transpose of a matrix?\n"
      ]
    },
    {
      "metadata": {
        "id": "J2okSel_f1lS",
        "colab_type": "text"
      },
      "cell_type": "markdown",
      "source": [
        "##Your Answers go here:\n",
        "\n",
        "1) A vector is an object that has both a direction and a magnitude. Vectors can hold any object (e.g a sequence of values)\n",
        "\n",
        "2) A matrix can be thought of as a collection of vector or a list of lists\n",
        "\n",
        "3) We can add, multiply and plot vectors graphically\n",
        "\n",
        "4) Basis vectors can be thought of as linear lines that when scaled arbitrarily can create vectors going in any direction\n",
        "\n",
        "5) Inverse Matrix can be thought of as the reversed value of the original matrix. if both the inverse and the original values are multiplied this gives us the identity matrix\n",
        "\n",
        "6) When a new matrix is formed by turning all the rows of the original matrix into columns or turning the columns to rows"
      ]
    },
    {
      "metadata": {
        "id": "Lb-jyiXZgHfH",
        "colab_type": "text"
      },
      "cell_type": "markdown",
      "source": [
        "#Computations by hand\n",
        "\n",
        "1) $ \\begin {bmatrix} 1 \\\\ 3 \\\\ 4 \\end {bmatrix} + \\begin {bmatrix} 4 \\\\ 2 \\\\ 6 \\end {bmatrix} $\n",
        "\n",
        "2) $ 5 \\begin {bmatrix} 1 \\\\ 2 \\\\ 3 \\end{bmatrix} $\n",
        "\n",
        "3) $ \\begin {bmatrix} 1  &  3\\\\ 2 & 3  \\end{bmatrix} \\begin {bmatrix} 1 \\\\ 2 \\end{bmatrix} $\n",
        "\n",
        "4) $ \\begin {bmatrix} 1  &  3\\\\ 2 & 3 \\end{bmatrix} \\begin {bmatrix} 2 & 2 \\\\ 3 & 1 \\end{bmatrix} $\n",
        "\n",
        "5) What is the transpose of :\n",
        "\n",
        "$ \\begin{bmatrix} 1 & 4 \\\\ 2 & 5 \\\\ 3 & 6 \\end{bmatrix} $ \n",
        "\n",
        "6) What is the determinant of:\n",
        "\n",
        " $\\begin {bmatrix} 2 & 2 \\\\ 3 & 1 \\end{bmatrix}$\n",
        " \n",
        " 7) What is the inverse matrix of: \n",
        " \n",
        "  $\\begin {bmatrix} 3 & 2 \\\\ 1 & 2 \\end{bmatrix}$"
      ]
    },
    {
      "metadata": {
        "id": "lpi3RD72Psdz",
        "colab_type": "code",
        "colab": {
          "base_uri": "https://localhost:8080/",
          "height": 34
        },
        "outputId": "169f5c0f-b7db-4e22-e591-d3ed6c5e4467"
      },
      "cell_type": "code",
      "source": [
        "(2*2)-(2*1)"
      ],
      "execution_count": 1,
      "outputs": [
        {
          "output_type": "execute_result",
          "data": {
            "text/plain": [
              "2"
            ]
          },
          "metadata": {
            "tags": []
          },
          "execution_count": 1
        }
      ]
    },
    {
      "metadata": {
        "id": "LdnLfusWjcZQ",
        "colab_type": "text"
      },
      "cell_type": "markdown",
      "source": [
        "## Your Answers go here:\n",
        "\n",
        "1) $ \\begin {bmatrix} 5 \\\\ 5 \\\\ 10 \\end {bmatrix} $\n",
        "\n",
        "2) $ \\begin {bmatrix} 5 \\\\ 10 \\\\ 15 \\end {bmatrix} $\n",
        "\n",
        "3) $\\begin {bmatrix} 7 \\\\ 9 \\end{bmatrix}$\n",
        "\n",
        "4) $\\begin {bmatrix} 11 & 5 \\\\ 13 & 7 \\end{bmatrix}$\n",
        "\n",
        "5) $ \\begin{bmatrix} 1 & 2 & 3  \\\\ 4 & 5 & 6  \\end{bmatrix} $\n",
        "\n",
        "6) 2\n",
        "\n",
        "7) $\\begin {bmatrix} 0.5 & -0.5 \\\\ -0.25 & 0.75 \\end{bmatrix}$"
      ]
    },
    {
      "metadata": {
        "id": "B7q5osaBjo10",
        "colab_type": "text"
      },
      "cell_type": "markdown",
      "source": [
        "##Visualize the Vectors\n",
        "\n",
        "Graph the following:\n",
        "\n",
        "  Vector v_1 = [1,0] \n",
        "  \n",
        "  Vector v_2 = v_1 scaled by 2\n",
        "  \n",
        "  Vector v_3 = [0,-1]\n",
        "  \n",
        "  Vector v_4 = the sum of v_2 and v_3\n",
        " "
      ]
    },
    {
      "metadata": {
        "id": "uy65IMqbeNKw",
        "colab_type": "code",
        "colab": {
          "base_uri": "https://localhost:8080/",
          "height": 362
        },
        "outputId": "50a1f845-724f-4afb-baac-a78b638ea485"
      },
      "cell_type": "code",
      "source": [
        "import matplotlib.pyplot as plt\n",
        "plt.axis([-2,3,-2,3])\n",
        "plt.arrow(0, 0, 1, 0, head_width = .02, head_length =0.01, color = 'b')\n",
        "plt.arrow(0, 0, 2, 0, head_width = .02, head_length =0.01, color = 'r')\n",
        "plt.arrow(0, 0, 0, -1, head_width = .02, head_length =0.01, color = 'y')\n",
        "plt.arrow(0, 0, 2, -1, head_width = .02, head_length =0.01, color = 'g')\n",
        "plt.title('Assignment 4 vectors')\n",
        "plt.show()"
      ],
      "execution_count": 23,
      "outputs": [
        {
          "output_type": "display_data",
          "data": {
            "image/png": "[encoded data removed]",
            "text/plain": [
              "<matplotlib.figure.Figure at 0x7f8628bb0cc0>"
            ]
          },
          "metadata": {
            "tags": []
          }
        }
      ]
    },
    {
      "metadata": {
        "id": "jWDov3LvlF9C",
        "colab_type": "text"
      },
      "cell_type": "markdown",
      "source": [
        "## Graph the Matrix\n",
        "\n",
        "Graph the columns and rows of this matrix: \n",
        " $\\begin {bmatrix} 2 & 2 \\\\ 3 & 1 \\end{bmatrix}$"
      ]
    },
    {
      "metadata": {
        "id": "Vru0b8zOlEUQ",
        "colab_type": "code",
        "colab": {
          "base_uri": "https://localhost:8080/",
          "height": 368
        },
        "outputId": "b76a5f6a-797f-48ec-e97c-3c9fadac74af"
      },
      "cell_type": "code",
      "source": [
        "plt.axis([0,6,0,6])\n",
        "plt.arrow(0,0,2,3, head_width = .1, head_length=.05)\n",
        "plt.arrow(0,0,2,1, head_width = .1, head_length=.05)\n",
        "plt.fill([0,0,2,2],[0,0,1,3], color='blue')\n"
      ],
      "execution_count": 46,
      "outputs": [
        {
          "output_type": "execute_result",
          "data": {
            "text/plain": [
              "[<matplotlib.patches.Polygon at 0x7f862893c278>]"
            ]
          },
          "metadata": {
            "tags": []
          },
          "execution_count": 46
        },
        {
          "output_type": "display_data",
          "data": {
            "image/png": "[encoded data removed]",
            "text/plain": [
              "<matplotlib.figure.Figure at 0x7f8628974908>"
            ]
          },
          "metadata": {
            "tags": []
          }
        }
      ]
    },
    {
      "metadata": {
        "id": "QbBhyPwhlggH",
        "colab_type": "text"
      },
      "cell_type": "markdown",
      "source": [
        "## Using the tools: NumPy Edition\n",
        "\n",
        "Use the NumPy library to compute the \"Computations by Hand\" section. Make sure to print each answer and label your print statement"
      ]
    },
    {
      "metadata": {
        "id": "JcjUoEANlf8Q",
        "colab_type": "code",
        "colab": {
          "base_uri": "https://localhost:8080/",
          "height": 187
        },
        "outputId": "e93d0762-fca6-4cb7-f9f4-6b739f3d33e2"
      },
      "cell_type": "code",
      "source": [
        "from operator import add, mul\n",
        "import numpy as np\n",
        "\n",
        "#Question 1\n",
        "one, two = [1,2,3], [4,2,6]\n",
        "print('Question one=', list(map(add, one,two)))\n",
        "\n",
        "#Question 2\n",
        "scaler = 5\n",
        "list_one =[1,2,3]\n",
        "print('Question two=', [x*scaler for x in list_one])\n",
        "\n",
        "#Question 3\n",
        "matrix_1 = np.matrix('1 3; 3,3')\n",
        "vector_1 = np.array([1,2])\n",
        "print('Question three=', matrix_1.dot(vector_1))\n",
        "\n",
        "#Question 4\n",
        "matrix_two, matrix_three = np.matrix('1 3; 2 3'), np.matrix('2 2;3 1')\n",
        "print('Question four=', np.matmul(matrix_two, matrix_three))\n",
        "\n",
        "#Question 5\n",
        "matrix_four = np.matrix('1 4; 2 5; 3 6')\n",
        "print('Question five=', np.transpose(matrix_four))\n",
        "\n",
        "#Question 6\n",
        "matrix_five = np.matrix('3 2; 1 2')\n",
        "print('Question six=', np.linalg.det(matrix_five))\n",
        "\n",
        "#Question 7\n",
        "matrix_six = np.matrix('3 2; 1 2')\n",
        "print('Question seven=', np.linalg.inv(matrix_six))"
      ],
      "execution_count": 70,
      "outputs": [
        {
          "output_type": "stream",
          "text": [
            "Question one= [5, 4, 9]\n",
            "Question two= [5, 10, 15]\n",
            "Question three= [[7 9]]\n",
            "Question four= [[11  5]\n",
            " [13  7]]\n",
            "Question five= [[1 2 3]\n",
            " [4 5 6]]\n",
            "Question six= 4.000000000000001\n",
            "Question seven= [[ 0.5  -0.5 ]\n",
            " [-0.25  0.75]]\n"
          ],
          "name": "stdout"
        }
      ]
    }
  ]
}