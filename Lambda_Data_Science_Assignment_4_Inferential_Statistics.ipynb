{
  "nbformat": 4,
  "nbformat_minor": 0,
  "metadata": {
    "colab": {
      "name": "Lambda Data Science Assignment 4 - Inferential Statistics.ipynb",
      "version": "0.3.2",
      "provenance": [],
      "collapsed_sections": []
    },
    "kernelspec": {
      "display_name": "Python 3",
      "language": "python",
      "name": "python3"
    }
  },
  "cells": [
    {
      "metadata": {
        "id": "LSwe_aflLNyk",
        "colab_type": "text"
      },
      "cell_type": "markdown",
      "source": [
        "# Lambda School, Intro to Data Science, Day 4\n",
        "\n",
        "## Inferential Statistics Assignment"
      ]
    },
    {
      "metadata": {
        "id": "i19U8PYQLNym",
        "colab_type": "code",
        "colab": {}
      },
      "cell_type": "code",
      "source": [
        "%matplotlib inline\n",
        "import matplotlib.pyplot as plt\n",
        "import pandas as pd\n",
        "import random\n",
        "from statistics import mean, stdev"
      ],
      "execution_count": 0,
      "outputs": []
    },
    {
      "metadata": {
        "id": "Gi1JCNi1LNyp",
        "colab_type": "text"
      },
      "cell_type": "markdown",
      "source": [
        "# Titanic\n",
        "\n",
        "Use the [`describe` function in pandas](https://pandas.pydata.org/pandas-docs/stable/generated/pandas.DataFrame.describe.html) to calculate summary statistics (including mean and standard deviation) for `age` and `fare`.\n",
        "\n",
        "Think, and be ready to discuss: How do these two features compare in their central tendency and in their spread?"
      ]
    },
    {
      "metadata": {
        "id": "r2ZTA_lILNyq",
        "colab_type": "code",
        "colab": {
          "base_uri": "https://localhost:8080/",
          "height": 297
        },
        "outputId": "3c8470a5-4fb7-428b-dec9-baa70aae7a5f"
      },
      "cell_type": "code",
      "source": [
        "df = pd.read_csv('https://raw.githubusercontent.com/ryanleeallred/datasets/master/titanic.csv', index_col=0)\n",
        "features = ['age', 'fare']\n",
        "##df.dropna(subset=features, inplace=True)\n",
        "df.describe()\n"
      ],
      "execution_count": 3,
      "outputs": [
        {
          "output_type": "execute_result",
          "data": {
            "text/html": [
              "<div>\n",
              "<style scoped>\n",
              "    .dataframe tbody tr th:only-of-type {\n",
              "        vertical-align: middle;\n",
              "    }\n",
              "\n",
              "    .dataframe tbody tr th {\n",
              "        vertical-align: top;\n",
              "    }\n",
              "\n",
              "    .dataframe thead th {\n",
              "        text-align: right;\n",
              "    }\n",
              "</style>\n",
              "<table border=\"1\" class=\"dataframe\">\n",
              "  <thead>\n",
              "    <tr style=\"text-align: right;\">\n",
              "      <th></th>\n",
              "      <th>survived</th>\n",
              "      <th>pclass</th>\n",
              "      <th>age</th>\n",
              "      <th>sibsp</th>\n",
              "      <th>parch</th>\n",
              "      <th>fare</th>\n",
              "    </tr>\n",
              "  </thead>\n",
              "  <tbody>\n",
              "    <tr>\n",
              "      <th>count</th>\n",
              "      <td>891.000000</td>\n",
              "      <td>891.000000</td>\n",
              "      <td>714.000000</td>\n",
              "      <td>891.000000</td>\n",
              "      <td>891.000000</td>\n",
              "      <td>891.000000</td>\n",
              "    </tr>\n",
              "    <tr>\n",
              "      <th>mean</th>\n",
              "      <td>0.383838</td>\n",
              "      <td>2.308642</td>\n",
              "      <td>29.699118</td>\n",
              "      <td>0.523008</td>\n",
              "      <td>0.381594</td>\n",
              "      <td>32.204208</td>\n",
              "    </tr>\n",
              "    <tr>\n",
              "      <th>std</th>\n",
              "      <td>0.486592</td>\n",
              "      <td>0.836071</td>\n",
              "      <td>14.526497</td>\n",
              "      <td>1.102743</td>\n",
              "      <td>0.806057</td>\n",
              "      <td>49.693429</td>\n",
              "    </tr>\n",
              "    <tr>\n",
              "      <th>min</th>\n",
              "      <td>0.000000</td>\n",
              "      <td>1.000000</td>\n",
              "      <td>0.420000</td>\n",
              "      <td>0.000000</td>\n",
              "      <td>0.000000</td>\n",
              "      <td>0.000000</td>\n",
              "    </tr>\n",
              "    <tr>\n",
              "      <th>25%</th>\n",
              "      <td>0.000000</td>\n",
              "      <td>2.000000</td>\n",
              "      <td>20.125000</td>\n",
              "      <td>0.000000</td>\n",
              "      <td>0.000000</td>\n",
              "      <td>7.910400</td>\n",
              "    </tr>\n",
              "    <tr>\n",
              "      <th>50%</th>\n",
              "      <td>0.000000</td>\n",
              "      <td>3.000000</td>\n",
              "      <td>28.000000</td>\n",
              "      <td>0.000000</td>\n",
              "      <td>0.000000</td>\n",
              "      <td>14.454200</td>\n",
              "    </tr>\n",
              "    <tr>\n",
              "      <th>75%</th>\n",
              "      <td>1.000000</td>\n",
              "      <td>3.000000</td>\n",
              "      <td>38.000000</td>\n",
              "      <td>1.000000</td>\n",
              "      <td>0.000000</td>\n",
              "      <td>31.000000</td>\n",
              "    </tr>\n",
              "    <tr>\n",
              "      <th>max</th>\n",
              "      <td>1.000000</td>\n",
              "      <td>3.000000</td>\n",
              "      <td>80.000000</td>\n",
              "      <td>8.000000</td>\n",
              "      <td>6.000000</td>\n",
              "      <td>512.329200</td>\n",
              "    </tr>\n",
              "  </tbody>\n",
              "</table>\n",
              "</div>"
            ],
            "text/plain": [
              "         survived      pclass         age       sibsp       parch        fare\n",
              "count  891.000000  891.000000  714.000000  891.000000  891.000000  891.000000\n",
              "mean     0.383838    2.308642   29.699118    0.523008    0.381594   32.204208\n",
              "std      0.486592    0.836071   14.526497    1.102743    0.806057   49.693429\n",
              "min      0.000000    1.000000    0.420000    0.000000    0.000000    0.000000\n",
              "25%      0.000000    2.000000   20.125000    0.000000    0.000000    7.910400\n",
              "50%      0.000000    3.000000   28.000000    0.000000    0.000000   14.454200\n",
              "75%      1.000000    3.000000   38.000000    1.000000    0.000000   31.000000\n",
              "max      1.000000    3.000000   80.000000    8.000000    6.000000  512.329200"
            ]
          },
          "metadata": {
            "tags": []
          },
          "execution_count": 3
        }
      ]
    },
    {
      "metadata": {
        "id": "nqC6j9FbiWnm",
        "colab_type": "code",
        "colab": {
          "base_uri": "https://localhost:8080/",
          "height": 34
        },
        "outputId": "735e2921-59ee-4ca5-9a36-9397bb12413b"
      },
      "cell_type": "code",
      "source": [
        "df['age'].isnull().sum()"
      ],
      "execution_count": 7,
      "outputs": [
        {
          "output_type": "execute_result",
          "data": {
            "text/plain": [
              "177"
            ]
          },
          "metadata": {
            "tags": []
          },
          "execution_count": 7
        }
      ]
    },
    {
      "metadata": {
        "id": "FXLVkb_fnY9Q",
        "colab_type": "code",
        "colab": {
          "base_uri": "https://localhost:8080/",
          "height": 51
        },
        "outputId": "218fe4c4-75ae-4db5-9a5a-e4a1bf1fc3c1"
      },
      "cell_type": "code",
      "source": [
        "#checking if age and fare columns have any null values\n",
        "\n",
        "print(sum(pd.isnull(df.age)))\n",
        "print(sum(pd.isnull(df.fare)))"
      ],
      "execution_count": 4,
      "outputs": [
        {
          "output_type": "stream",
          "text": [
            "177\n",
            "0\n"
          ],
          "name": "stdout"
        }
      ]
    },
    {
      "metadata": {
        "id": "1Ya4DmC5lNGR",
        "colab_type": "code",
        "colab": {
          "base_uri": "https://localhost:8080/",
          "height": 34
        },
        "outputId": "90af40b9-5092-49f8-ef1f-1471ae27519c"
      },
      "cell_type": "code",
      "source": [
        "#fill empty age rows with the forward value age\n",
        "df['age'] = df['age'].fillna(method='ffill')\n",
        "\n",
        "#checking if null values have been filled\n",
        "print(sum(pd.isnull(df.age)))\n"
      ],
      "execution_count": 78,
      "outputs": [
        {
          "output_type": "stream",
          "text": [
            "0\n"
          ],
          "name": "stdout"
        }
      ]
    },
    {
      "metadata": {
        "id": "xubN6m3qWzpq",
        "colab_type": "code",
        "colab": {
          "base_uri": "https://localhost:8080/",
          "height": 333
        },
        "outputId": "cc61fd39-1494-474a-bc5a-158caba871b2"
      },
      "cell_type": "code",
      "source": [
        "fig, ax = plt.subplots(1,2)\n",
        "ax[0].hist(df.fare)\n",
        "ax[1].hist(df.age)"
      ],
      "execution_count": 85,
      "outputs": [
        {
          "output_type": "execute_result",
          "data": {
            "text/plain": [
              "(array([ 71.,  58., 220., 202., 154.,  86.,  58.,  29.,  11.,   2.]),\n",
              " array([ 0.42 ,  8.378, 16.336, 24.294, 32.252, 40.21 , 48.168, 56.126,\n",
              "        64.084, 72.042, 80.   ]),\n",
              " <a list of 10 Patch objects>)"
            ]
          },
          "metadata": {
            "tags": []
          },
          "execution_count": 85
        },
        {
          "output_type": "display_data",
          "data": {
            "image/png": "[encoded data removed]",
            "text/plain": [
              "<matplotlib.figure.Figure at 0x7f26b28106a0>"
            ]
          },
          "metadata": {
            "tags": []
          }
        }
      ]
    },
    {
      "metadata": {
        "id": "dfFb3yzjLNyu",
        "colab_type": "text"
      },
      "cell_type": "markdown",
      "source": [
        "Plot histograms for both features.\n",
        "\n",
        "Think, and be ready to discuss: What do you notice about the shape of these distributions?"
      ]
    },
    {
      "metadata": {
        "id": "K2M9twlfLNyu",
        "colab_type": "code",
        "colab": {}
      },
      "cell_type": "code",
      "source": [
        "#the age graph sort of resembles a bell curve, while the fare graph is denser in the beginning and the density decreases and the fare increases"
      ],
      "execution_count": 0,
      "outputs": []
    },
    {
      "metadata": {
        "id": "5cXkMdm-LNyz",
        "colab_type": "text"
      },
      "cell_type": "markdown",
      "source": [
        "# Clumsy Carl\n",
        "\n",
        "Re-do the Clumsy Carl problem -- but suppose that Carl broke **2** of 5 dishes. What's the p-value?\n",
        "\n",
        "Think, and be ready to discuss: Would you reject the null hypothesis?\n",
        "\n",
        "Suggestion: You can look at the lecture notebook, but **don't copy-paste** from it!\n",
        "\n",
        "> You must type each of these exercises in, manually. If you copy and paste, you might as well not even do them. The point of these exercises is to train your hands, your brain, and your mind in how to read, write, and see code. If you copy-paste, you are cheating yourself out of the effectiveness of the lessons. —*[Learn Python the Hard Way](https://learnpythonthehardway.org/book/intro.html)*\n",
        "\n",
        "---\n",
        "\n",
        "Here's the problem restated:\n",
        "\n",
        "Imagine a restaurant employs five dishwashers:\n",
        "- Alice\n",
        "- Bob\n",
        "- Carl\n",
        "- Dave\n",
        "- Eric\n",
        "\n",
        "One week, they break five dishes -- and Carl breaks **two** of the five. So, his coworkers have a hypothesis: Carl is clumsy!\n",
        "\n",
        "Carl says no, it was just bad luck and random chance: it could have happened to anybody. We can call this the null hypothesis.\n",
        "\n",
        "Can we do some math to help answer this argument? What's the probability it was just bad luck?\n",
        "\n",
        "We can write a Monte Carlo simulation to estimate the probability that Carl breaks at least four of the five dishes, assuming that breaking a dish is a truly random event. (We'll assume that the dishwashers have identical workloads and skills.)\n"
      ]
    },
    {
      "metadata": {
        "id": "5IdSBJnmLNy0",
        "colab_type": "code",
        "colab": {
          "base_uri": "https://localhost:8080/",
          "height": 54
        },
        "outputId": "09e35edd-9a8d-4037-d5e1-ffc84256fe69"
      },
      "cell_type": "code",
      "source": [
        "import random\n",
        "from statistics import mean, stdev\n",
        "dishwashers = ['Alice', 'Bob', 'Carl', 'Dave', 'Eric']\n",
        "def break_dishes():\n",
        "  broken = [random.choice(dishwashers) for _ in range(5)]\n",
        "  return broken.count('Carl')\n",
        "\n",
        "monte_carlo=[break_dishes() for _ in range (100000)]\n",
        "\n",
        "#mean of broken dishes\n",
        "the_mean, std_dev = mean(monte_carlo), stdev(monte_carlo)\n",
        "\n",
        "#odds of breaking atleast 2 dishes\n",
        "odds_of_two = (sum(break_dishes() >= 2 for _ in monte_carlo)/100000)\n",
        "p_value_two = mean(break_dishes() >=2 for _ in monte_carlo)\n",
        "if p_value_two < .05:\n",
        "  print('We reject the null hypothsis that this was just bad luck, It is likely that Carl is clumsy, the p_value of him breaking atleast 2 dishes is', p_value_two)\n",
        "else:\n",
        "  print('We accept the null hypothsis, in all likelihood Carl is not clumsy, he was just unlucky, the p_value of him breaking atleast 2 dishes is', p_value_two)\n"
      ],
      "execution_count": 88,
      "outputs": [
        {
          "output_type": "stream",
          "text": [
            "We accept the null hypothsis, in all likelihood Carl is not clumsy, he was just unlucky, the p_value of him breaking atleast 2 dishes is 0.26271\n"
          ],
          "name": "stdout"
        }
      ]
    },
    {
      "metadata": {
        "id": "etpy-I1ILNy2",
        "colab_type": "code",
        "colab": {
          "base_uri": "https://localhost:8080/",
          "height": 34
        },
        "outputId": "ade7623d-afb3-4336-c7aa-09bb61561412"
      },
      "cell_type": "code",
      "source": [
        "print(odds_of_two)"
      ],
      "execution_count": 89,
      "outputs": [
        {
          "output_type": "stream",
          "text": [
            "0.26413\n"
          ],
          "name": "stdout"
        }
      ]
    },
    {
      "metadata": {
        "id": "lbuNLuPVLNy4",
        "colab_type": "text"
      },
      "cell_type": "markdown",
      "source": [
        "# Two dice\n",
        "Simulate the distribution of adding two dice.\n",
        "\n",
        "What is the mean? Standard deviation?"
      ]
    },
    {
      "metadata": {
        "id": "Cn1yEJDQLNy5",
        "colab_type": "code",
        "colab": {
          "base_uri": "https://localhost:8080/",
          "height": 34
        },
        "outputId": "85911464-d91e-4682-ff1e-c8fc5cb50fd8"
      },
      "cell_type": "code",
      "source": [
        "import random\n",
        "import numpy as np\n",
        "def die_rolls():\n",
        "  sides = list(range(1,7))\n",
        "  die = [random.choice(sides) for _ in range (2)]\n",
        "  return die\n",
        "\n",
        "monte_carlo_two = [sum(die_rolls()) for _ in range(100000)]\n",
        "calculation = {'mean': np.mean(monte_carlo_two), 'standard deviation': np.std(monte_carlo_two)}\n",
        "std_dev = np.std(monte_carlo_two)\n",
        "print('Mean is: ', calculation['mean'], 'Standard Deviation is: ', calculation['standard deviation'])\n",
        "\n",
        "\n"
      ],
      "execution_count": 101,
      "outputs": [
        {
          "output_type": "stream",
          "text": [
            "Mean is:  7.00379 Standard Deviation is:  2.4196478330327325\n"
          ],
          "name": "stdout"
        }
      ]
    },
    {
      "metadata": {
        "id": "8Q0iMN5-LNy7",
        "colab_type": "text"
      },
      "cell_type": "markdown",
      "source": [
        "What is the standard score (z score) of rolling a 10?"
      ]
    },
    {
      "metadata": {
        "id": "9kOLJtxjLNy7",
        "colab_type": "code",
        "colab": {
          "base_uri": "https://localhost:8080/",
          "height": 34
        },
        "outputId": "0eb39cb2-521d-47d4-daaa-01b57fc55e48"
      },
      "cell_type": "code",
      "source": [
        "z_score = ((10 - calculation['mean'])/calculation['standard deviation'])\n",
        "z_score"
      ],
      "execution_count": 102,
      "outputs": [
        {
          "output_type": "execute_result",
          "data": {
            "text/plain": [
              "1.238283505184561"
            ]
          },
          "metadata": {
            "tags": []
          },
          "execution_count": 102
        }
      ]
    },
    {
      "metadata": {
        "id": "OXVQVpV0LNy-",
        "colab_type": "text"
      },
      "cell_type": "markdown",
      "source": [
        "What is the probability of rolling a 10 or higher?"
      ]
    },
    {
      "metadata": {
        "id": "YfWhW40YLNy_",
        "colab_type": "code",
        "colab": {
          "base_uri": "https://localhost:8080/",
          "height": 34
        },
        "outputId": "f7147bd7-2077-488a-f493-bcf34ec9f13c"
      },
      "cell_type": "code",
      "source": [
        "probability = (sum(x >= 10 for x in monte_carlo_two)/100000) \n",
        "print('The probability of rolling a 10 or higher {}%'.format(probability))\n"
      ],
      "execution_count": 107,
      "outputs": [
        {
          "output_type": "stream",
          "text": [
            "The probability of rolling a 10 or higher 0.16784%\n"
          ],
          "name": "stdout"
        }
      ]
    },
    {
      "metadata": {
        "id": "p8zeToPqLNzB",
        "colab_type": "text"
      },
      "cell_type": "markdown",
      "source": [
        "# Harvest"
      ]
    },
    {
      "metadata": {
        "id": "xf08Iq7uLNzC",
        "colab_type": "text"
      },
      "cell_type": "markdown",
      "source": [
        "Using bootstrap resampling, calculate the 95% confidence interval for mean apple weight ..."
      ]
    },
    {
      "metadata": {
        "id": "9pjuLKH5LNzC",
        "colab_type": "code",
        "colab": {
          "base_uri": "https://localhost:8080/",
          "height": 34
        },
        "outputId": "11f30b3d-31a1-46e6-a681-e06db1d66020"
      },
      "cell_type": "code",
      "source": [
        "def bootstrap_sample(items):\n",
        "    # Random resample *with replacement*\n",
        "    return random.choices(items, k=len(items))\n",
        "\n",
        "def percentile(x, p):\n",
        "    # x: List of numbers\n",
        "    # p: Percentile, between 0 and 100\n",
        "    i = round(len(x) * p/100)\n",
        "    return sorted(x)[i]\n",
        "\n",
        "apples = [.5, .4, .5, .6, .3, .7]\n",
        "mean_apples = [mean(bootstrap_sample(apples)) for _ in range(100000)]\n",
        "percentile(mean_apples,5), percentile(mean_apples,95)\n"
      ],
      "execution_count": 115,
      "outputs": [
        {
          "output_type": "execute_result",
          "data": {
            "text/plain": [
              "(0.41666666666666663, 0.5833333333333333)"
            ]
          },
          "metadata": {
            "tags": []
          },
          "execution_count": 115
        }
      ]
    },
    {
      "metadata": {
        "id": "xsqjoIYJLNzH",
        "colab_type": "text"
      },
      "cell_type": "markdown",
      "source": [
        "... and for mean pumpkin weight:"
      ]
    },
    {
      "metadata": {
        "id": "nqXdG9hQLNzH",
        "colab_type": "code",
        "colab": {
          "base_uri": "https://localhost:8080/",
          "height": 34
        },
        "outputId": "47050c35-7bd4-4748-fba0-f885c6958136"
      },
      "cell_type": "code",
      "source": [
        "pumpkins = [1, 1, 1, 3, 3, 591]\n",
        "mean_pumpkins = [mean(bootstrap_sample(pumpkins)) for _ in range(100000)]\n",
        "percentile(mean_pumpkins,5),percentile(mean_pumpkins,95)"
      ],
      "execution_count": 117,
      "outputs": [
        {
          "output_type": "execute_result",
          "data": {
            "text/plain": [
              "(1.3333333333333333, 296.3333333333333)"
            ]
          },
          "metadata": {
            "tags": []
          },
          "execution_count": 117
        }
      ]
    }
  ]
}